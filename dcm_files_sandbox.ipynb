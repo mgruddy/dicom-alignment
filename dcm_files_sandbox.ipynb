{
 "cells": [
  {
   "cell_type": "code",
   "execution_count": 1,
   "id": "57388074",
   "metadata": {},
   "outputs": [],
   "source": [
    "import numpy as np\n",
    "import pandas as pd\n",
    "import matplotlib.pyplot as plt\n",
    "import cv2\n",
    "import itertools\n",
    "import os\n",
    "import time\n",
    "import csv\n",
    "import math\n",
    "\n",
    "from pathlib import Path\n",
    "from tqdm.notebook import tqdm\n",
    "\n",
    "import pydicom\n",
    "from alignment import *\n",
    "\n",
    "# this is from the contour.py file in the dicom-contour github\n",
    "import contour"
   ]
  },
  {
   "cell_type": "markdown",
   "id": "f640e1eb",
   "metadata": {},
   "source": [
    "Below we have a dataframe with paths to a few places for each patient:\n",
    "- Folder with CT info\n",
    "- Folder with Dose info\n",
    "- Folder with Plan info\n",
    "- Folder with Contour info (masks)"
   ]
  },
  {
   "cell_type": "code",
   "execution_count": 2,
   "id": "6afd45cc",
   "metadata": {},
   "outputs": [],
   "source": [
    "data_path = Path('/data/users/ruddym/DOSE/plans_ck_old/')\n",
    "patient_df = pd.read_csv(data_path/'patient_table.csv')\n",
    "\n",
    "# let's look at a particular patient\n",
    "idx = 54"
   ]
  },
  {
   "cell_type": "markdown",
   "id": "831463ea",
   "metadata": {},
   "source": [
    "Notice that when we peek into the CT folder, we have a bunch of ```dcm``` files."
   ]
  },
  {
   "cell_type": "code",
   "execution_count": 3,
   "id": "cfce85c9",
   "metadata": {},
   "outputs": [
    {
     "name": "stdout",
     "output_type": "stream",
     "text": [
      "There are 419 dicom files in this folder\n"
     ]
    }
   ],
   "source": [
    "CT_folder = patient_df.iloc[idx]['CT']\n",
    "\n",
    "num_dcm_files = 0\n",
    "\n",
    "for file in os.listdir(data_path/CT_folder):\n",
    "    if file.split('.')[-1] == 'dcm':\n",
    "        num_dcm_files += 1\n",
    "\n",
    "print(f'There are {num_dcm_files} dicom files in this folder')"
   ]
  },
  {
   "cell_type": "markdown",
   "id": "b3d656a6",
   "metadata": {},
   "source": [
    "Let's peek at a particular ```dcm``` file using the pydicom package. This contains a lot of information about the patient and the CT scan, not just the CT scan pixels itself. There are standard codes for the information in a DICOM file (see [here](https://dicom.innolitics.com/ciods/cr-image) for reference)."
   ]
  },
  {
   "cell_type": "code",
   "execution_count": 4,
   "id": "7d48b6d7",
   "metadata": {},
   "outputs": [],
   "source": [
    "file_no = 0\n",
    "file = os.listdir(data_path/CT_folder)[file_no]\n",
    "\n",
    "dicom_obj = pydicom.read_file(str(data_path/CT_folder/file))"
   ]
  },
  {
   "cell_type": "code",
   "execution_count": 5,
   "id": "8a104a0e",
   "metadata": {},
   "outputs": [
    {
     "name": "stdout",
     "output_type": "stream",
     "text": [
      "dict_keys([(0008, 0005), (0008, 0008), (0008, 0016), (0008, 0018), (0008, 0020), (0008, 0021), (0008, 0022), (0008, 0023), (0008, 0030), (0008, 0031), (0008, 0032), (0008, 0033), (0008, 0050), (0008, 0060), (0008, 0070), (0008, 0080), (0008, 0081), (0008, 0090), (0008, 1010), (0008, 1030), (0008, 103e), (0008, 1048), (0008, 1090), (0008, 1110), (0008, 1140), (0008, 2112), (0009, 0010), (0010, 0010), (0010, 0020), (0010, 0021), (0010, 0030), (0010, 0032), (0010, 0040), (0010, 1010), (0010, 1040), (0010, 2154), (0018, 0015), (0018, 0050), (0018, 0060), (0018, 0090), (0018, 1000), (0018, 1020), (0018, 1030), (0018, 1100), (0018, 1110), (0018, 1111), (0018, 1120), (0018, 1130), (0018, 1140), (0018, 1150), (0018, 1151), (0018, 1152), (0018, 1160), (0018, 1170), (0018, 1190), (0018, 1200), (0018, 1201), (0018, 1210), (0018, 5100), (0019, 0010), (0019, 10b0), (0020, 000d), (0020, 000e), (0020, 0010), (0020, 0011), (0020, 0012), (0020, 0013), (0020, 0032), (0020, 0037), (0020, 0052), (0020, 1040), (0020, 1041), (0020, 4000), (0021, 0010), (0021, 1011), (0028, 0002), (0028, 0004), (0028, 0010), (0028, 0011), (0028, 0030), (0028, 0100), (0028, 0101), (0028, 0102), (0028, 0103), (0028, 0106), (0028, 0107), (0028, 1050), (0028, 1051), (0028, 1052), (0028, 1053), (0028, 1055), (0029, 0010), (0029, 0011), (0029, 1008), (0029, 1009), (0029, 1010), (0029, 1140), (0032, 000a), (0032, 1032), (0032, 1033), (0032, 1060), (0040, 0275), (7fe0, 0010)])\n"
     ]
    },
    {
     "data": {
      "text/plain": [
       "(0008, 0060) Modality                            CS: 'CT'"
      ]
     },
     "execution_count": 5,
     "metadata": {},
     "output_type": "execute_result"
    }
   ],
   "source": [
    "# the metadata can be accessed via standard keys\n",
    "print(dicom_obj.keys())\n",
    "\n",
    "# we can extract the modality this way\n",
    "dicom_obj[\"0008\", \"0060\"]"
   ]
  },
  {
   "cell_type": "code",
   "execution_count": 6,
   "id": "2dbcd4c3",
   "metadata": {},
   "outputs": [
    {
     "data": {
      "text/plain": [
       "'CT'"
      ]
     },
     "execution_count": 6,
     "metadata": {},
     "output_type": "execute_result"
    }
   ],
   "source": [
    "# or do so directly\n",
    "dicom_obj.Modality"
   ]
  },
  {
   "cell_type": "code",
   "execution_count": 7,
   "id": "b2c938a3",
   "metadata": {},
   "outputs": [
    {
     "data": {
      "text/plain": [
       "'UCSF'"
      ]
     },
     "execution_count": 7,
     "metadata": {},
     "output_type": "execute_result"
    }
   ],
   "source": [
    "# this dicom file comes from UCSF\n",
    "dicom_obj.InstitutionName"
   ]
  },
  {
   "cell_type": "markdown",
   "id": "f9e36578",
   "metadata": {},
   "source": [
    "Notably this file contains geometric information about the CT scan. Most of these values are in millimeters, referencing some origin in physical space. This origin should match the patient's associated dose, plan, and contour files as well. See [here](https://nipy.org/nibabel/dicom/dicom_orientation.html) and [here](https://dicom.nema.org/MEDICAL/DICOM/2014c/output/chtml/part03/sect_C.7.6.2.html#sect_C.7.6.2.1.1) for more information. This is necessary for reconstructing the CT scan into a 3D array and for aligning it with the dose data.\n",
    "\n",
    "**NOTE:**\n",
    "- The (x,y) coordinates of dicom files may refer to the *columns* and *rows* of the pixel array respectively. In other words the (*i*,*j*)-th voxel refers to pixel given by ```pixel_array[j,i]```.\n",
    "- Here *z* is with respect to the patient, not physical orientation. Thus z ranges from the feet (lower values) to the head (higher values)."
   ]
  },
  {
   "cell_type": "code",
   "execution_count": 8,
   "id": "8ce78e44",
   "metadata": {},
   "outputs": [
    {
     "data": {
      "text/plain": [
       "[-249.51171875, -470.51171875, 107.5]"
      ]
     },
     "execution_count": 8,
     "metadata": {},
     "output_type": "execute_result"
    }
   ],
   "source": [
    "# x, y, z coordinates of the top left corner of the CT scan slice\n",
    "dicom_obj.ImagePositionPatient"
   ]
  },
  {
   "cell_type": "code",
   "execution_count": 9,
   "id": "e968f37a",
   "metadata": {},
   "outputs": [
    {
     "data": {
      "text/plain": [
       "'107.5'"
      ]
     },
     "execution_count": 9,
     "metadata": {},
     "output_type": "execute_result"
    }
   ],
   "source": [
    "# z coordinate of the slice\n",
    "dicom_obj.SliceLocation"
   ]
  },
  {
   "cell_type": "code",
   "execution_count": 10,
   "id": "6008ca4f",
   "metadata": {},
   "outputs": [
    {
     "data": {
      "text/plain": [
       "[0.9765625, 0.9765625]"
      ]
     },
     "execution_count": 10,
     "metadata": {},
     "output_type": "execute_result"
    }
   ],
   "source": [
    "# physical distance between each pixel in mm\n",
    "dicom_obj.PixelSpacing"
   ]
  },
  {
   "cell_type": "code",
   "execution_count": 11,
   "id": "53f3a1bf",
   "metadata": {},
   "outputs": [
    {
     "data": {
      "text/plain": [
       "'1.0'"
      ]
     },
     "execution_count": 11,
     "metadata": {},
     "output_type": "execute_result"
    }
   ],
   "source": [
    "# physical \"thickness\" of the slice in mm\n",
    "dicom_obj.SliceThickness"
   ]
  },
  {
   "cell_type": "markdown",
   "id": "af81c4ae",
   "metadata": {},
   "source": [
    "Let's play with some of the helper functions in the alignment file."
   ]
  },
  {
   "cell_type": "code",
   "execution_count": 12,
   "id": "64ceb39e",
   "metadata": {},
   "outputs": [
    {
     "data": {
      "text/plain": [
       "numpy.ndarray"
      ]
     },
     "execution_count": 12,
     "metadata": {},
     "output_type": "execute_result"
    }
   ],
   "source": [
    "# gets all dicom files of a given modality\n",
    "CT_slices = get_dicom_files(str(data_path/CT_folder), modality='CT')\n",
    "\n",
    "# on top of this function we have one that sorts CT slices\n",
    "slices = get_CT_ordered_slices(str(data_path/CT_folder))\n",
    "\n",
    "# and on top of that we have one that returns the CT array\n",
    "CT_array = get_CT_array(str(data_path/CT_folder))\n",
    "type(CT_array)"
   ]
  },
  {
   "cell_type": "code",
   "execution_count": 13,
   "id": "996f8dcb",
   "metadata": {},
   "outputs": [
    {
     "data": {
      "text/plain": [
       "(512, 512, 419)"
      ]
     },
     "execution_count": 13,
     "metadata": {},
     "output_type": "execute_result"
    }
   ],
   "source": [
    "# note the 419 again\n",
    "CT_array.shape"
   ]
  },
  {
   "cell_type": "code",
   "execution_count": 14,
   "id": "3382ca17",
   "metadata": {},
   "outputs": [
    {
     "data": {
      "text/plain": [
       "[0.9765625, 0.9765625, 1.0]"
      ]
     },
     "execution_count": 14,
     "metadata": {},
     "output_type": "execute_result"
    }
   ],
   "source": [
    "# get the physical spacing from a dicom file as floating point\n",
    "spacing_from_dicom(slices[0])"
   ]
  },
  {
   "cell_type": "code",
   "execution_count": 15,
   "id": "7c1d3caa",
   "metadata": {},
   "outputs": [
    {
     "data": {
      "text/plain": [
       "[-249.51171875, -470.51171875, 10.5]"
      ]
     },
     "execution_count": 15,
     "metadata": {},
     "output_type": "execute_result"
    }
   ],
   "source": [
    "# get the origin\n",
    "origin_from_dicom(slices[0])"
   ]
  },
  {
   "cell_type": "code",
   "execution_count": 16,
   "id": "b681abff",
   "metadata": {},
   "outputs": [
    {
     "data": {
      "text/plain": [
       "[-249.51171875, -470.51171875, 11.5]"
      ]
     },
     "execution_count": 16,
     "metadata": {},
     "output_type": "execute_result"
    }
   ],
   "source": [
    "# note the origin of the second slice\n",
    "# should be reconstructable from Slice Thickness and first slice's origin\n",
    "origin_from_dicom(slices[1])"
   ]
  },
  {
   "cell_type": "markdown",
   "id": "150ab523",
   "metadata": {},
   "source": [
    "We can use the contour package from [here](https://github.com/KeremTurgutlu/dicom-contour/blob/master/dicom_contour/contour.py) to get the masks as 3D arrays. The various masks are of ROIs (Regions of Interest)"
   ]
  },
  {
   "cell_type": "code",
   "execution_count": 17,
   "id": "9c2f0cf7",
   "metadata": {},
   "outputs": [],
   "source": [
    "mask_folder = patient_df.iloc[idx]['RTst']\n",
    "contour_data = get_dicom_files(str(data_path/mask_folder), modality='RTSTRUCT')"
   ]
  },
  {
   "cell_type": "code",
   "execution_count": 18,
   "id": "47cb283e",
   "metadata": {},
   "outputs": [
    {
     "data": {
      "text/plain": [
       "['Urethra',\n",
       " 'Bladder',\n",
       " 'PenileBulb',\n",
       " 'Femur_R',\n",
       " 'Femur_L',\n",
       " 'Rectum',\n",
       " 'Prostate']"
      ]
     },
     "execution_count": 18,
     "metadata": {},
     "output_type": "execute_result"
    }
   ],
   "source": [
    "# these are the masks in the contour data\n",
    "contour.get_roi_names(contour_data)"
   ]
  },
  {
   "cell_type": "code",
   "execution_count": 19,
   "id": "93814e1c",
   "metadata": {},
   "outputs": [
    {
     "data": {
      "text/plain": [
       "['Femur_R', 'Femur_L']"
      ]
     },
     "execution_count": 19,
     "metadata": {},
     "output_type": "execute_result"
    }
   ],
   "source": [
    "# dealing with strings is tough, ROI naming is non-standard as well\n",
    "# this function looks for an ROI named similarly to what you are looking for\n",
    "suggest_roi_name(contour_data, 'Femur')"
   ]
  },
  {
   "cell_type": "code",
   "execution_count": 20,
   "id": "9326d40e",
   "metadata": {},
   "outputs": [
    {
     "name": "stderr",
     "output_type": "stream",
     "text": [
      "/home/ruddym/dose_alignment/alignment.py:341: UserWarning: Contour Femur is not in contour dataset!\n",
      "  warnings.warn(f\"Contour {name} is not in contour dataset!\")\n"
     ]
    }
   ],
   "source": [
    "# get the index of the desired ROI in the ROI sequence\n",
    "get_roi_index(contour_data, 'Femur')"
   ]
  },
  {
   "cell_type": "code",
   "execution_count": 21,
   "id": "0cc786dd",
   "metadata": {},
   "outputs": [
    {
     "data": {
      "text/plain": [
       "3"
      ]
     },
     "execution_count": 21,
     "metadata": {},
     "output_type": "execute_result"
    }
   ],
   "source": [
    "# it must be exact!\n",
    "get_roi_index(contour_data, 'Femur_R')"
   ]
  },
  {
   "cell_type": "code",
   "execution_count": 22,
   "id": "c1de5abe",
   "metadata": {},
   "outputs": [
    {
     "data": {
      "text/plain": [
       "numpy.ndarray"
      ]
     },
     "execution_count": 22,
     "metadata": {},
     "output_type": "execute_result"
    }
   ],
   "source": [
    "# convert the contour into a filled in binary mask with aligns with the CT scan\n",
    "contour_fname =  get_dicom_files(str(data_path/mask_folder), modality='RTSTRUCT',\n",
    "                                fname=True)\n",
    "mask = contour.get_mask(str(data_path/CT_folder), str(data_path/mask_folder/contour_fname), 3)\n",
    "type(mask)"
   ]
  },
  {
   "cell_type": "code",
   "execution_count": 23,
   "id": "e2e986cc",
   "metadata": {},
   "outputs": [
    {
     "data": {
      "text/plain": [
       "(419, 512, 512)"
      ]
     },
     "execution_count": 23,
     "metadata": {},
     "output_type": "execute_result"
    }
   ],
   "source": [
    "# note that the mask needs to be transposed to match CT array\n",
    "mask.shape"
   ]
  },
  {
   "cell_type": "code",
   "execution_count": 24,
   "id": "cc84ad96",
   "metadata": {},
   "outputs": [
    {
     "data": {
      "text/plain": [
       "(512, 512, 419)"
      ]
     },
     "execution_count": 24,
     "metadata": {},
     "output_type": "execute_result"
    }
   ],
   "source": [
    "np.transpose(mask, (1, 2, 0)).shape"
   ]
  },
  {
   "cell_type": "markdown",
   "id": "c43cba91",
   "metadata": {},
   "source": [
    "Now let's take a look at the dose data. We also have geometric information about the dose, but note that we have one dose file with a 3D array rather than a collection of slices like for the CT scan."
   ]
  },
  {
   "cell_type": "code",
   "execution_count": 25,
   "id": "7a487d5a",
   "metadata": {},
   "outputs": [],
   "source": [
    "dose_folder = patient_df.iloc[idx]['RTDOSE']\n",
    "dose_data = get_dicom_files(str(data_path/dose_folder), modality='RTDOSE')"
   ]
  },
  {
   "cell_type": "code",
   "execution_count": 26,
   "id": "b34716e8",
   "metadata": {},
   "outputs": [
    {
     "data": {
      "text/plain": [
       "[-214.35546875, -345.51171875, 10.5]"
      ]
     },
     "execution_count": 26,
     "metadata": {},
     "output_type": "execute_result"
    }
   ],
   "source": [
    "# this doesn't match the first CT slice exactly everywhere\n",
    "# we'll have to align them later!\n",
    "origin_from_dicom(dose_data)"
   ]
  },
  {
   "cell_type": "code",
   "execution_count": 27,
   "id": "ed0da0bb",
   "metadata": {},
   "outputs": [
    {
     "data": {
      "text/plain": [
       "(277, 437, 418)"
      ]
     },
     "execution_count": 27,
     "metadata": {},
     "output_type": "execute_result"
    }
   ],
   "source": [
    "# it must be transposed to match\n",
    "dose_array = np.transpose(dose_data.pixel_array, (1, 2, 0))\n",
    "\n",
    "# it's a different shape too\n",
    "dose_array.shape"
   ]
  },
  {
   "cell_type": "markdown",
   "id": "733ceb4a",
   "metadata": {},
   "source": [
    "The pixels of the dose array correspond to the intensity of radiation. We need certain metadata from the dose array to convert from these values to Grays."
   ]
  },
  {
   "cell_type": "code",
   "execution_count": 28,
   "id": "253028a4",
   "metadata": {},
   "outputs": [
    {
     "data": {
      "text/plain": [
       "'GY'"
      ]
     },
     "execution_count": 28,
     "metadata": {},
     "output_type": "execute_result"
    }
   ],
   "source": [
    "# units in Grays\n",
    "dose_data.DoseUnits"
   ]
  },
  {
   "cell_type": "code",
   "execution_count": 29,
   "id": "ea440850",
   "metadata": {},
   "outputs": [
    {
     "data": {
      "text/plain": [
       "'0.00072480354009'"
      ]
     },
     "execution_count": 29,
     "metadata": {},
     "output_type": "execute_result"
    }
   ],
   "source": [
    "# converts to Grays\n",
    "dose_data.DoseGridScaling"
   ]
  },
  {
   "cell_type": "code",
   "execution_count": 30,
   "id": "824e4dd9",
   "metadata": {},
   "outputs": [
    {
     "name": "stdout",
     "output_type": "stream",
     "text": [
      "The max pixel value of the dose array is 65535\n",
      "The max value in Grays of the dose array is 47.49999999979815\n"
     ]
    }
   ],
   "source": [
    "print(f'The max pixel value of the dose array is {np.max(dose_array)}')\n",
    "\n",
    "# dose array scaled to Grays\n",
    "dose_array_grays = dose_array * dose_data.DoseGridScaling\n",
    "\n",
    "print(f'The max value in Grays of the dose array is {np.max(dose_array_grays)}')"
   ]
  },
  {
   "cell_type": "markdown",
   "id": "aab3f5db",
   "metadata": {},
   "source": [
    "Often we want to normalize the dose array with respect to a certain value in Grays, the prescription dose. This way we can compare two patients receiving similar treatment but perhaps different intensity radiation."
   ]
  },
  {
   "cell_type": "code",
   "execution_count": 31,
   "id": "dd641800",
   "metadata": {},
   "outputs": [
    {
     "name": "stdout",
     "output_type": "stream",
     "text": [
      "The max value after normalization is 1.35714285713709.\n",
      "The value of 1.0 in the array corresponds to 35 Grays.\n"
     ]
    }
   ],
   "source": [
    "Rx_dose_grays = 35\n",
    "normalized_dose_array = get_dose_array(str(data_path/dose_folder), Rx_normalization=35)\n",
    "print(f'The max value after normalization is {np.max(normalized_dose_array)}.')\n",
    "print(f'The value of 1.0 in the array corresponds to {Rx_dose_grays} Grays.')"
   ]
  },
  {
   "cell_type": "markdown",
   "id": "eeef638c",
   "metadata": {},
   "source": [
    "The most important function in the alignment file is the function that aligns a dose to the CT array. It may take a non-trivial amount of time to do this aligning. The following aligns the dose array *to* the CT array, meaning that we create a new dose array rather than a new CT array. To align in the other direction simply replace the dose info with the CT info and vice versa.\n",
    "\n",
    "**NOTE:**\n",
    "- This currently only works with patients that have image orientation: ```[1,0,0,0,1,0]```"
   ]
  },
  {
   "cell_type": "code",
   "execution_count": 32,
   "id": "2438d1f4",
   "metadata": {},
   "outputs": [
    {
     "name": "stdout",
     "output_type": "stream",
     "text": [
      "This took 95.75315380096436 seconds\n"
     ]
    }
   ],
   "source": [
    "CT_shape, CT_origin, CT_spacing = get_CT_voxel_data(str(data_path/CT_folder))\n",
    "dose_shape, dose_origin, dose_spacing = get_dose_voxel_data(str(data_path/dose_folder))\n",
    "\n",
    "start = time.time()\n",
    "aligned_dose_array = align_3d_arrays(dose_origin, dose_spacing, dose_array,\n",
    "                                        CT_origin, CT_spacing, CT_shape)\n",
    "end = time.time()\n",
    "\n",
    "print(f'This took {end - start} seconds')"
   ]
  },
  {
   "cell_type": "code",
   "execution_count": 33,
   "id": "4be42615",
   "metadata": {},
   "outputs": [
    {
     "data": {
      "text/plain": [
       "((512, 512, 419), (512, 512, 419))"
      ]
     },
     "execution_count": 33,
     "metadata": {},
     "output_type": "execute_result"
    }
   ],
   "source": [
    "# now the shapes match!\n",
    "aligned_dose_array.shape, CT_shape"
   ]
  },
  {
   "cell_type": "markdown",
   "id": "df1f6fcd",
   "metadata": {},
   "source": [
    "Finally there are plan files which contain information about the plan made by the clinician before radiation treatment."
   ]
  },
  {
   "cell_type": "code",
   "execution_count": 34,
   "id": "48fd910e",
   "metadata": {},
   "outputs": [],
   "source": [
    "plan_folder = patient_df.iloc[idx]['RTPLAN']\n",
    "\n",
    "plan = get_dicom_files(str(data_path/plan_folder), modality='RTPLAN')"
   ]
  },
  {
   "cell_type": "markdown",
   "id": "f0be58c9",
   "metadata": {},
   "source": [
    "This function looks for the prescription dose of the target ROI in the plan file. It is very heuristic and may not work well for another patient set."
   ]
  },
  {
   "cell_type": "code",
   "execution_count": 35,
   "id": "3f94cf9a",
   "metadata": {},
   "outputs": [
    {
     "data": {
      "text/plain": [
       "38.0"
      ]
     },
     "execution_count": 35,
     "metadata": {},
     "output_type": "execute_result"
    }
   ],
   "source": [
    "Rx_dose_from_plan(plan, target_names=['target'])"
   ]
  },
  {
   "cell_type": "code",
   "execution_count": null,
   "id": "17fa1e00",
   "metadata": {},
   "outputs": [],
   "source": []
  }
 ],
 "metadata": {
  "kernelspec": {
   "display_name": "Python 3 (ipykernel)",
   "language": "python",
   "name": "python3"
  },
  "language_info": {
   "codemirror_mode": {
    "name": "ipython",
    "version": 3
   },
   "file_extension": ".py",
   "mimetype": "text/x-python",
   "name": "python",
   "nbconvert_exporter": "python",
   "pygments_lexer": "ipython3",
   "version": "3.9.9"
  }
 },
 "nbformat": 4,
 "nbformat_minor": 5
}
